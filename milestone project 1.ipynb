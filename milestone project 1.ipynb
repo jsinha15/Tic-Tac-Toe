{
 "cells": [
  {
   "cell_type": "code",
   "execution_count": 1,
   "id": "953626ab",
   "metadata": {},
   "outputs": [],
   "source": [
    "from IPython.display import clear_output\n",
    "\n",
    "#display board\n",
    "\n",
    "def display_board(board):\n",
    "    clear_output()\n",
    "    print(' ' + board[7]+' | '+board[8]+' | '+board[9])\n",
    "    print(\"----------\")\n",
    "    print(' ' + board[4]+' | '+board[5]+' | '+board[6])\n",
    "    print(\"----------\")\n",
    "    print(' ' + board[1]+' | '+board[2]+' | '+board[3])\n",
    "    "
   ]
  },
  {
   "cell_type": "code",
   "execution_count": 2,
   "id": "0902112d",
   "metadata": {},
   "outputs": [
    {
     "name": "stdout",
     "output_type": "stream",
     "text": [
      "   |   |  \n",
      "----------\n",
      "   |   |  \n",
      "----------\n",
      "   |   |  \n"
     ]
    }
   ],
   "source": [
    "test_board=[' ']*10\n",
    "display_board(test_board)\n"
   ]
  },
  {
   "cell_type": "code",
   "execution_count": 3,
   "id": "ed361aac",
   "metadata": {},
   "outputs": [],
   "source": [
    "#taking players input\n",
    "\n",
    "def players_input():\n",
    "    marker = ' '\n",
    "    while marker != 'X' and marker != 'O':\n",
    "        marker = input(\"player 1 , choose X or O : \")\n",
    "    player1 = marker\n",
    "    if player1 == 'X':\n",
    "        player2 ='O'\n",
    "    else:\n",
    "        player2 = 'X'\n",
    "    return(player1 , player2)\n",
    "          \n",
    "    \n",
    "        \n",
    "    "
   ]
  },
  {
   "cell_type": "code",
   "execution_count": 4,
   "id": "1e92e217",
   "metadata": {},
   "outputs": [
    {
     "name": "stdout",
     "output_type": "stream",
     "text": [
      "player 1 , choose X or O : \n",
      "player 1 , choose X or O : X\n"
     ]
    },
    {
     "data": {
      "text/plain": [
       "'X'"
      ]
     },
     "execution_count": 4,
     "metadata": {},
     "output_type": "execute_result"
    }
   ],
   "source": [
    "\n",
    "\n",
    "\n",
    "player1_marker , player2_marker = players_input()\n",
    "player1_marker"
   ]
  },
  {
   "cell_type": "code",
   "execution_count": 5,
   "id": "3e517e8d",
   "metadata": {},
   "outputs": [],
   "source": [
    "#place the marker on the board\n",
    "\n",
    "def place_marker(board,marker,position):\n",
    "    board[position] = marker\n",
    "    return display_board(board)"
   ]
  },
  {
   "cell_type": "code",
   "execution_count": 6,
   "id": "fe6f59fa",
   "metadata": {},
   "outputs": [
    {
     "name": "stdout",
     "output_type": "stream",
     "text": [
      "   |   |  \n",
      "----------\n",
      "   |   |  \n",
      "----------\n",
      "   |   | X\n"
     ]
    }
   ],
   "source": [
    "place_marker(test_board,'X',3)"
   ]
  },
  {
   "cell_type": "code",
   "execution_count": 7,
   "id": "2016216e",
   "metadata": {},
   "outputs": [],
   "source": [
    "#if the player won\n",
    "\n",
    "def win_check(board,mark):\n",
    "    \n",
    "    return ((board[7] == mark and board[8] == mark and board[9] == mark) or # across the top\n",
    "    (board[4] == mark and board[5] == mark and board[6] == mark) or # across the middle\n",
    "    (board[1] == mark and board[2] == mark and board[3] == mark) or # across the bottom\n",
    "    (board[7] == mark and board[4] == mark and board[1] == mark) or # down the middle\n",
    "    (board[8] == mark and board[5] == mark and board[2] == mark) or # down the middle\n",
    "    (board[9] == mark and board[6] == mark and board[3] == mark) or # down the right side\n",
    "    (board[7] == mark and board[5] == mark and board[3] == mark) or # diagonal\n",
    "    (board[9] == mark and board[5] == mark and board[1] == mark)) # diagonal"
   ]
  },
  {
   "cell_type": "code",
   "execution_count": 8,
   "id": "cd8087ac",
   "metadata": {},
   "outputs": [
    {
     "data": {
      "text/plain": [
       "False"
      ]
     },
     "execution_count": 8,
     "metadata": {},
     "output_type": "execute_result"
    }
   ],
   "source": [
    "win_check(test_board,'X')"
   ]
  },
  {
   "cell_type": "code",
   "execution_count": 9,
   "id": "5f2e9bdc",
   "metadata": {},
   "outputs": [
    {
     "name": "stdout",
     "output_type": "stream",
     "text": [
      "   |   |  \n",
      "----------\n",
      "   |   |  \n",
      "----------\n",
      "   |   | X\n"
     ]
    }
   ],
   "source": [
    "place_marker(test_board,'X',0)"
   ]
  },
  {
   "cell_type": "code",
   "execution_count": 10,
   "id": "770a84dd",
   "metadata": {},
   "outputs": [],
   "source": [
    "#who will go first\n",
    "import random\n",
    "\n",
    "def choose_first():\n",
    "    if random.randint(0,1) == 0:\n",
    "        return 'PLAYER 1'\n",
    "    else:\n",
    "        return 'PLAYER 2'"
   ]
  },
  {
   "cell_type": "code",
   "execution_count": 11,
   "id": "fb47e809",
   "metadata": {},
   "outputs": [
    {
     "data": {
      "text/plain": [
       "'PLAYER 1'"
      ]
     },
     "execution_count": 11,
     "metadata": {},
     "output_type": "execute_result"
    }
   ],
   "source": [
    "choose_first()"
   ]
  },
  {
   "cell_type": "code",
   "execution_count": 13,
   "id": "905c5022",
   "metadata": {},
   "outputs": [],
   "source": [
    "# free space on the board\n",
    "\n",
    "def space_check(board,position):\n",
    "    return board[position] == ' '\n",
    "   "
   ]
  },
  {
   "cell_type": "code",
   "execution_count": 14,
   "id": "af79c3d4",
   "metadata": {},
   "outputs": [],
   "source": [
    "# full board\n",
    "\n",
    "def full_board(board):\n",
    "    for i in range(1,10):\n",
    "        if space_check(board,i):\n",
    "            return False\n",
    "    return True\n",
    "        "
   ]
  },
  {
   "cell_type": "code",
   "execution_count": 15,
   "id": "c36af545",
   "metadata": {},
   "outputs": [],
   "source": [
    "# players choice\n",
    "\n",
    "def players_choice(board):\n",
    "    position= 0\n",
    "    while position not in range(1,10) or not space_check(board,position):\n",
    "        position = int(input(\"Enter the position from 1-9\"))\n",
    "    return position"
   ]
  },
  {
   "cell_type": "code",
   "execution_count": 16,
   "id": "3286b6a1",
   "metadata": {},
   "outputs": [],
   "source": [
    "#replay \n",
    "\n",
    "def replay():\n",
    "    choice = input(\"play again ?  enter yes or no \")\n",
    "    return choice == 'yes'"
   ]
  },
  {
   "cell_type": "code",
   "execution_count": null,
   "id": "e23bf801",
   "metadata": {},
   "outputs": [],
   "source": [
    "#FINAL GAME\n",
    "\n",
    "print(\"WELCOME TO TIC TAC TOE\")\n",
    "\n",
    "while True:\n",
    "    #play the game\n",
    "    ##set everything up that is - board , marker , who's first\n",
    "    the_board = [' ']*10\n",
    "    player1_marker , player2_marker = players_input()\n",
    "    turn = choose_first()\n",
    "    print( turn + 'you go first')\n",
    "    play_game = input('Ready to play ?? Y or N')\n",
    "    if play_game == 'Y':\n",
    "        game_on = True\n",
    "    else:\n",
    "        game_on = False\n",
    "    ##game play \n",
    "    while game_on:\n",
    "        if turn == 'PLAYER 1':\n",
    "            #display the board\n",
    "            display_board(the_board)\n",
    "            #choose a position\n",
    "            position = players_choice(the_board) \n",
    "            #place the marker on board\n",
    "            place_marker(the_board,player1_marker,position) \n",
    "            #if won\n",
    "            if win_check(the_board,player1_marker):\n",
    "                display_board(the_board)\n",
    "                print('PLAYER 1 won')\n",
    "                game_on = False\n",
    "            #if tie\n",
    "            else:\n",
    "                if full_board(the_board):\n",
    "                    display_board(the_board)\n",
    "                    print('A TIE')\n",
    "                    break \n",
    "            #if no win or no tie , player 2 turn\n",
    "                else:\n",
    "                    turn = 'PLAYER 2'\n",
    "    ###player1 turn\n",
    "        else:\n",
    "            #display the board\n",
    "            display_board(the_board)\n",
    "            #choose a position\n",
    "            position = players_choice(the_board) \n",
    "            #place the marker on board\n",
    "            place_marker(the_board,player2_marker,position)\n",
    "            #if won\n",
    "            if win_check(the_board,player2_marker):\n",
    "                display_board(the_board)\n",
    "                print('PLAYER 2 won')\n",
    "                game_on = False \n",
    "            #if tie\n",
    "            else:\n",
    "                if full_board(the_board):\n",
    "                    display_board(the_board)\n",
    "                    print('A TIE')\n",
    "                    break\n",
    "             #if no win or no tie , player 1 turn\n",
    "                else:\n",
    "                    turn = 'PLAYER 1'\n",
    "\n",
    "    ###player2 turn\n",
    "    if not replay():\n",
    "        break\n",
    "        #break out of the game"
   ]
  },
  {
   "cell_type": "markdown",
   "id": "421ca96d",
   "metadata": {},
   "source": [
    "### "
   ]
  },
  {
   "cell_type": "code",
   "execution_count": null,
   "id": "466f40f2",
   "metadata": {},
   "outputs": [],
   "source": []
  }
 ],
 "metadata": {
  "kernelspec": {
   "display_name": "Python 3 (ipykernel)",
   "language": "python",
   "name": "python3"
  },
  "language_info": {
   "codemirror_mode": {
    "name": "ipython",
    "version": 3
   },
   "file_extension": ".py",
   "mimetype": "text/x-python",
   "name": "python",
   "nbconvert_exporter": "python",
   "pygments_lexer": "ipython3",
   "version": "3.9.13"
  }
 },
 "nbformat": 4,
 "nbformat_minor": 5
}
